{
  "cells": [
    {
      "cell_type": "markdown",
      "metadata": {
        "id": "view-in-github",
        "colab_type": "text"
      },
      "source": [
        "<a href=\"https://colab.research.google.com/github/Basit2612/PRODIGY_ML_04/blob/main/PRODIGY_ML_04.ipynb\" target=\"_parent\"><img src=\"https://colab.research.google.com/assets/colab-badge.svg\" alt=\"Open In Colab\"/></a>"
      ]
    },
    {
      "cell_type": "markdown",
      "metadata": {
        "id": "ZU2wYA-JTXyX"
      },
      "source": [
        "# Statement"
      ]
    },
    {
      "cell_type": "markdown",
      "metadata": {
        "id": "NbugeJl-TGgB"
      },
      "source": [
        "Develop a hand gesture recognition model that can accurately identify and classify different hand gestures from image or video data, enabling intuitive human-computer interaction and gesture-based control system.\n",
        "\n",
        "Dataset:https://www.kaggle.com/datasets/gti-upm/leapgestrecog"
      ]
    },
    {
      "cell_type": "markdown",
      "metadata": {
        "id": "niAkVkQPTMWy"
      },
      "source": [
        "# Importing Python Libraries"
      ]
    },
    {
      "cell_type": "code",
      "execution_count": null,
      "metadata": {
        "id": "u7-oC8NsiOHb"
      },
      "outputs": [],
      "source": [
        "import os\n",
        "import cv2\n",
        "import numpy as np\n",
        "import pandas as pd\n",
        "import seaborn as sns\n",
        "import tensorflow as tf\n",
        "import matplotlib.pyplot as plt"
      ]
    },
    {
      "cell_type": "markdown",
      "metadata": {
        "id": "VX4W9shPTdG5"
      },
      "source": [
        "# Datasets"
      ]
    },
    {
      "cell_type": "code",
      "execution_count": null,
      "metadata": {
        "id": "_8X818ACfNzy"
      },
      "outputs": [],
      "source": [
        "data_dir = \"/content/drive/MyDrive/Colab Notebooks/Task4_ML-Prodigy/leapGestRecog\""
      ]
    },
    {
      "cell_type": "code",
      "execution_count": null,
      "metadata": {
        "id": "0KJmcCbMhOK5"
      },
      "outputs": [],
      "source": [
        "images = []\n",
        "y_labels = []"
      ]
    },
    {
      "cell_type": "markdown",
      "metadata": {
        "id": "nHWmJkyCTjlA"
      },
      "source": [
        "# Preprocessing"
      ]
    },
    {
      "cell_type": "code",
      "execution_count": null,
      "metadata": {
        "colab": {
          "base_uri": "https://localhost:8080/"
        },
        "id": "eQXNL3Wgwm3G",
        "outputId": "837431fd-00ed-4368-a472-c06512f78a40"
      },
      "outputs": [
        {
          "output_type": "stream",
          "name": "stderr",
          "text": [
            "/usr/local/lib/python3.10/dist-packages/keras/src/utils/image_utils.py:409: UserWarning: grayscale is deprecated. Please use color_mode = \"grayscale\"\n",
            "  warnings.warn(\n"
          ]
        }
      ],
      "source": [
        "from keras.preprocessing import image\n",
        "leapGestRecog = os.listdir(data_dir)\n",
        "num_classes = len(leapGestRecog)\n",
        "for labels in leapGestRecog:\n",
        "  subfolder1 = os.path.join(data_dir, labels)\n",
        "  for label in os.listdir(subfolder1):\n",
        "    subfolder2 = os.path.join(subfolder1, label)\n",
        "    for hand_image in os.listdir(subfolder2):\n",
        "      subfolder3 = os.path.join(subfolder2, hand_image)\n",
        "      img = image.load_img(subfolder3, grayscale = True, target_size = (128,128))\n",
        "      img = image.img_to_array(img)\n",
        "      img = img/255.0\n",
        "      images.append(np.array(img))\n",
        "      y_labels.append(labels)\n",
        "images, y_labels"
      ]
    },
    {
      "cell_type": "code",
      "execution_count": null,
      "metadata": {
        "id": "0nvpPukHU1PM"
      },
      "outputs": [],
      "source": [
        "X = np.array(images)\n",
        "Y = np.array(y_labels)\n",
        "X,Y"
      ]
    },
    {
      "cell_type": "markdown",
      "source": [
        "# Label Encoder"
      ],
      "metadata": {
        "id": "lq6mLfdCyO0c"
      }
    },
    {
      "cell_type": "code",
      "source": [
        "from sklearn.preprocessing import LabelEncoder\n",
        "from keras.utils import to_categorical\n",
        "Y = LabelEncoder().fit_transform(Y)\n",
        "Y = to_categorical(Y)\n",
        "Y"
      ],
      "metadata": {
        "id": "r5mIECu0xBwG"
      },
      "execution_count": null,
      "outputs": []
    },
    {
      "cell_type": "markdown",
      "source": [
        "# Train-Test Split"
      ],
      "metadata": {
        "id": "tUOwUf0wyTnx"
      }
    },
    {
      "cell_type": "code",
      "execution_count": null,
      "metadata": {
        "id": "B1XqsF3yTvK2"
      },
      "outputs": [],
      "source": [
        "from sklearn.model_selection import train_test_split\n",
        "X_train,X_test,Y_train,Y_test = train_test_split(X,Y,test_size=0.2,random_state=42)\n",
        "X_train, Y_train, X_test, Y_test"
      ]
    },
    {
      "cell_type": "markdown",
      "source": [
        "# Building the CNN model"
      ],
      "metadata": {
        "id": "cnyXNGs4ybBG"
      }
    },
    {
      "cell_type": "code",
      "source": [
        "from keras.models import Sequential\n",
        "from keras.layers import Conv2D, MaxPooling2D, Flatten, Dense, Dropout\n",
        "\n",
        "model = Sequential()\n",
        "model.add(Conv2D(32, (3, 3), activation='relu', input_shape=(128, 128, 1)))\n",
        "model.add(MaxPooling2D((2, 2)))\n",
        "model.add(Conv2D(64, (3, 3), activation='relu'))\n",
        "model.add(MaxPooling2D((2, 2)))\n",
        "model.add(Conv2D(128, (3, 3), activation='relu'))\n",
        "model.add(MaxPooling2D((2, 2)))\n",
        "model.add(Conv2D(128, (3, 3), activation='relu'))\n",
        "model.add(MaxPooling2D((2, 2)))\n",
        "model.add(Flatten())\n",
        "model.add(Dense(512, activation='relu'))\n",
        "model.add(Dropout(0.5))\n",
        "model.add(Dense(num_classes, activation='softmax'))"
      ],
      "metadata": {
        "id": "kkxhBUZ2bvud"
      },
      "execution_count": null,
      "outputs": []
    },
    {
      "cell_type": "markdown",
      "source": [
        "# Compile the model"
      ],
      "metadata": {
        "id": "wGMpxcvjyg1i"
      }
    },
    {
      "cell_type": "code",
      "source": [
        "model.compile(loss='categorical_crossentropy',\n",
        "              optimizer=\"adam\",\n",
        "              metrics=[\"accuracy\"])"
      ],
      "metadata": {
        "id": "PZiCapfF90tX"
      },
      "execution_count": null,
      "outputs": []
    },
    {
      "cell_type": "markdown",
      "source": [
        "# Train the Model"
      ],
      "metadata": {
        "id": "o97hovPx1OeI"
      }
    },
    {
      "cell_type": "code",
      "source": [
        "model.fit(X_train, Y_train, epochs=20, batch_size=64)"
      ],
      "metadata": {
        "id": "ZmaUdcFo-Pwv"
      },
      "execution_count": null,
      "outputs": []
    },
    {
      "cell_type": "markdown",
      "source": [
        "# Evaluate the Model"
      ],
      "metadata": {
        "id": "n8W6S6651O6u"
      }
    },
    {
      "cell_type": "code",
      "source": [
        "loss, accuracy = model.evaluate(X_test, Y_test)\n",
        "print(f'Test Loss: {loss}, Test Accuracy: {accuracy}')"
      ],
      "metadata": {
        "id": "XS-Myy47T04e"
      },
      "execution_count": null,
      "outputs": []
    }
  ],
  "metadata": {
    "colab": {
      "provenance": [],
      "mount_file_id": "1PNxGMoxHvBZJFF16eAKOr_eHgbbecgXW",
      "authorship_tag": "ABX9TyML2H8kNFMhSoTOEB927AqM",
      "include_colab_link": true
    },
    "kernelspec": {
      "display_name": "Python 3",
      "name": "python3"
    },
    "language_info": {
      "name": "python"
    }
  },
  "nbformat": 4,
  "nbformat_minor": 0
}